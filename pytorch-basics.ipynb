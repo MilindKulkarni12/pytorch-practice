{
 "cells": [
  {
   "cell_type": "code",
   "execution_count": 1,
   "metadata": {
    "collapsed": true
   },
   "outputs": [],
   "source": [
    "import torch\n",
    "import numpy as np"
   ]
  },
  {
   "cell_type": "code",
   "execution_count": 2,
   "outputs": [
    {
     "name": "stdout",
     "output_type": "stream",
     "text": [
      "tensor([[0.1022, 0.5405, 0.9857],\n",
      "        [0.4109, 0.4598, 0.9693],\n",
      "        [0.9723, 0.6975, 0.3840],\n",
      "        [0.9243, 0.1394, 0.4207],\n",
      "        [0.2379, 0.0600, 0.3655]])\n"
     ]
    }
   ],
   "source": [
    "x = torch.rand(5, 3)\n",
    "print(x)"
   ],
   "metadata": {
    "collapsed": false
   }
  },
  {
   "cell_type": "code",
   "execution_count": 3,
   "outputs": [
    {
     "data": {
      "text/plain": "True"
     },
     "execution_count": 3,
     "metadata": {},
     "output_type": "execute_result"
    }
   ],
   "source": [
    "torch.cuda.is_available()"
   ],
   "metadata": {
    "collapsed": false
   }
  },
  {
   "cell_type": "code",
   "execution_count": 4,
   "outputs": [
    {
     "name": "stdout",
     "output_type": "stream",
     "text": [
      "tensor([0., 0.])\n",
      "tensor([[0., 0.],\n",
      "        [0., 0.]]) torch.float32\n",
      "tensor([0, 0])\n",
      "tensor([[0, 0],\n",
      "        [0, 0]])\n"
     ]
    }
   ],
   "source": [
    "x = torch.empty(2)\n",
    "print(x)\n",
    "x = torch.empty(2, 2)\n",
    "print(x, x.dtype)\n",
    "x = torch.empty(2, dtype=int)\n",
    "print(x)\n",
    "x = torch.empty(2, 2, dtype=int)\n",
    "print(x)"
   ],
   "metadata": {
    "collapsed": false
   }
  },
  {
   "cell_type": "code",
   "execution_count": 5,
   "outputs": [
    {
     "name": "stdout",
     "output_type": "stream",
     "text": [
      "tensor([0., 0.])\n",
      "tensor([1., 1.])\n"
     ]
    }
   ],
   "source": [
    "y = torch.zeros(2)\n",
    "print(y)\n",
    "y = torch.ones(2)\n",
    "print(y)"
   ],
   "metadata": {
    "collapsed": false
   }
  },
  {
   "cell_type": "code",
   "execution_count": 6,
   "outputs": [
    {
     "name": "stdout",
     "output_type": "stream",
     "text": [
      "tensor([2.5000, 6.9000]) torch.float32\n",
      "tensor([2.5000, 6.9000], dtype=torch.float64) torch.float64\n"
     ]
    }
   ],
   "source": [
    "z = torch.tensor([2.5, 6.9])\n",
    "print(z, z.dtype)\n",
    "z = torch.tensor([2.5, 6.9], dtype=float)\n",
    "print(z, z.dtype)"
   ],
   "metadata": {
    "collapsed": false
   }
  },
  {
   "cell_type": "code",
   "execution_count": 7,
   "outputs": [
    {
     "name": "stdout",
     "output_type": "stream",
     "text": [
      "tensor([[0.5130, 0.1124],\n",
      "        [0.9661, 0.5520]])\n",
      "tensor([[0.5741, 0.0122],\n",
      "        [0.6056, 0.4659]])\n"
     ]
    }
   ],
   "source": [
    "x = torch.rand(2, 2)\n",
    "print(x)\n",
    "y = torch.rand(2, 2)\n",
    "print(y)"
   ],
   "metadata": {
    "collapsed": false
   }
  },
  {
   "cell_type": "code",
   "execution_count": 8,
   "outputs": [
    {
     "name": "stdout",
     "output_type": "stream",
     "text": [
      "tensor([[1.0871, 0.1246],\n",
      "        [1.5717, 1.0178]])\n",
      "tensor([[1.0871, 0.1246],\n",
      "        [1.5717, 1.0178]])\n",
      "tensor([[1.0871, 0.1246],\n",
      "        [1.5717, 1.0178]])\n"
     ]
    }
   ],
   "source": [
    "z1 = x + y\n",
    "print(z1)\n",
    "z2 = torch.add(x, y)\n",
    "print(z2)\n",
    "x.add_(y)\n",
    "print(x)"
   ],
   "metadata": {
    "collapsed": false
   }
  },
  {
   "cell_type": "code",
   "execution_count": 9,
   "outputs": [
    {
     "name": "stdout",
     "output_type": "stream",
     "text": [
      "tensor([[0.5130, 0.1124],\n",
      "        [0.9661, 0.5520]])\n",
      "tensor([[0.5130, 0.1124],\n",
      "        [0.9661, 0.5520]])\n",
      "tensor([[-0.5130, -0.1124],\n",
      "        [-0.9661, -0.5520]])\n"
     ]
    }
   ],
   "source": [
    "z1 = x - y\n",
    "print(z1)\n",
    "z2 = torch.sub(x, y)\n",
    "print(z2)\n",
    "y.sub_(x)\n",
    "print(y)"
   ],
   "metadata": {
    "collapsed": false
   }
  },
  {
   "cell_type": "code",
   "execution_count": 10,
   "outputs": [
    {
     "name": "stdout",
     "output_type": "stream",
     "text": [
      "tensor([[-0.5577, -0.0140],\n",
      "        [-1.5183, -0.5618]])\n",
      "tensor([[-0.5577, -0.0140],\n",
      "        [-1.5183, -0.5618]])\n",
      "tensor([[-0.5577, -0.0140],\n",
      "        [-1.5183, -0.5618]])\n"
     ]
    }
   ],
   "source": [
    "z1 = x * y\n",
    "print(z1)\n",
    "z2 = torch.mul(x, y)\n",
    "print(z2)\n",
    "y.mul_(x)\n",
    "print(y)"
   ],
   "metadata": {
    "collapsed": false
   }
  },
  {
   "cell_type": "code",
   "execution_count": 11,
   "outputs": [
    {
     "name": "stdout",
     "output_type": "stream",
     "text": [
      "tensor([[-1.9493, -8.8983],\n",
      "        [-1.0351, -1.8116]])\n",
      "tensor([[-1.9493, -8.8983],\n",
      "        [-1.0351, -1.8116]])\n",
      "tensor([[-1.9493, -8.8983],\n",
      "        [-1.0351, -1.8116]])\n"
     ]
    }
   ],
   "source": [
    "z1 = x / y\n",
    "print(z1)\n",
    "z2 = torch.div(x, y)\n",
    "print(z2)\n",
    "x.div_(y)\n",
    "print(x)"
   ],
   "metadata": {
    "collapsed": false
   }
  },
  {
   "cell_type": "code",
   "execution_count": 12,
   "outputs": [
    {
     "name": "stdout",
     "output_type": "stream",
     "text": [
      "tensor([[0.3803, 0.9789, 0.9010, 0.0116],\n",
      "        [0.0244, 0.6660, 0.4278, 0.1352],\n",
      "        [0.4696, 0.4361, 0.1551, 0.9946],\n",
      "        [0.8289, 0.5360, 0.4539, 0.5649]])\n",
      "tensor([0.3803, 0.0244, 0.4696, 0.8289])\n",
      "tensor([0.3803, 0.9789, 0.9010, 0.0116])\n",
      "tensor(0.3803)\n"
     ]
    }
   ],
   "source": [
    "x = torch.rand(4, 4)\n",
    "print(x)\n",
    "print(x[:, 0])\n",
    "print(x[0, :])\n",
    "print(x[0, 0])"
   ],
   "metadata": {
    "collapsed": false
   }
  },
  {
   "cell_type": "code",
   "execution_count": 13,
   "outputs": [
    {
     "name": "stdout",
     "output_type": "stream",
     "text": [
      "tensor([[0.4736, 0.2728, 0.4895, 0.1095],\n",
      "        [0.1224, 0.2961, 0.1578, 0.0705],\n",
      "        [0.1494, 0.4141, 0.0016, 0.2814],\n",
      "        [0.5937, 0.4312, 0.7651, 0.7889]])\n",
      "tensor([0.4736, 0.2728, 0.4895, 0.1095, 0.1224, 0.2961, 0.1578, 0.0705, 0.1494,\n",
      "        0.4141, 0.0016, 0.2814, 0.5937, 0.4312, 0.7651, 0.7889])\n",
      "tensor([[0.4736, 0.2728],\n",
      "        [0.4895, 0.1095],\n",
      "        [0.1224, 0.2961],\n",
      "        [0.1578, 0.0705],\n",
      "        [0.1494, 0.4141],\n",
      "        [0.0016, 0.2814],\n",
      "        [0.5937, 0.4312],\n",
      "        [0.7651, 0.7889]])\n",
      "tensor([[0.4736, 0.2728, 0.4895, 0.1095, 0.1224, 0.2961, 0.1578, 0.0705],\n",
      "        [0.1494, 0.4141, 0.0016, 0.2814, 0.5937, 0.4312, 0.7651, 0.7889]])\n"
     ]
    }
   ],
   "source": [
    "x = torch.rand(4, 4)\n",
    "print(x)\n",
    "y = x.view(16)\n",
    "print(y)\n",
    "y = x.view(-1, 2)\n",
    "print(y)\n",
    "y = x.view(2, -1)\n",
    "print(y)"
   ],
   "metadata": {
    "collapsed": false
   }
  },
  {
   "cell_type": "code",
   "execution_count": 14,
   "outputs": [
    {
     "name": "stdout",
     "output_type": "stream",
     "text": [
      "tensor([[0.7435, 0.8872, 0.7082],\n",
      "        [0.4440, 0.0228, 0.1395],\n",
      "        [0.9224, 0.2723, 0.8452]]) <class 'torch.Tensor'>\n",
      "[[0.74350286 0.8871811  0.7081824 ]\n",
      " [0.44399166 0.02278399 0.13952792]\n",
      " [0.92239195 0.27228963 0.8451501 ]] <class 'numpy.ndarray'>\n",
      "[[0.9467361  0.90773346 0.40306551]\n",
      " [0.94778092 0.36118365 0.75572446]\n",
      " [0.16647744 0.61264263 0.79721658]] <class 'numpy.ndarray'>\n",
      "tensor([[0.9467, 0.9077, 0.4031],\n",
      "        [0.9478, 0.3612, 0.7557],\n",
      "        [0.1665, 0.6126, 0.7972]], dtype=torch.float64) <class 'torch.Tensor'>\n"
     ]
    }
   ],
   "source": [
    "# pytorch <-> numpy\n",
    "x = torch.rand(3, 3)\n",
    "print(x, type(x))\n",
    "y = x.numpy()\n",
    "print(y, type(y))\n",
    "\n",
    "x = np.random.rand(3, 3)\n",
    "print(x, type(x))\n",
    "y = torch.from_numpy(x)\n",
    "print(y, type(y))"
   ],
   "metadata": {
    "collapsed": false
   }
  },
  {
   "cell_type": "code",
   "execution_count": 15,
   "outputs": [
    {
     "name": "stdout",
     "output_type": "stream",
     "text": [
      "tensor([[0.9128, 0.8228],\n",
      "        [0.1792, 0.1705]])\n",
      "[[0.9128033  0.82282674]\n",
      " [0.17923832 0.17051488]]\n",
      "tensor([[1.9128, 1.8228],\n",
      "        [1.1792, 1.1705]])\n",
      "[[1.9128033 1.8228267]\n",
      " [1.1792383 1.1705148]]\n"
     ]
    }
   ],
   "source": [
    "x = torch.rand(2, 2)\n",
    "print(x)\n",
    "y = x.numpy()\n",
    "print(y)\n",
    "y += 1\n",
    "print(x)\n",
    "print(y)"
   ],
   "metadata": {
    "collapsed": false
   }
  },
  {
   "cell_type": "code",
   "execution_count": 16,
   "outputs": [
    {
     "name": "stdout",
     "output_type": "stream",
     "text": [
      "tensor([[1., 1.],\n",
      "        [1., 1.]], device='cuda:0')\n",
      "tensor([[1., 1.],\n",
      "        [1., 1.]], device='cuda:0')\n",
      "tensor([[2., 2.],\n",
      "        [2., 2.]], device='cuda:0')\n",
      "[[2. 2.]\n",
      " [2. 2.]]\n"
     ]
    }
   ],
   "source": [
    "if torch.cuda.is_available():\n",
    "    device = torch.device(\"cuda\")\n",
    "    x = torch.ones(2, 2, device=device)\n",
    "    print(x)\n",
    "    y = torch.ones(2, 2)\n",
    "    y = y.to(device)\n",
    "    print(y)\n",
    "\n",
    "    z = x + y\n",
    "    print(z)\n",
    "    # z.numpy()\n",
    "    # print(z)\n",
    "    z = z.to(\"cpu\")\n",
    "    z = z.numpy()\n",
    "    print(z)"
   ],
   "metadata": {
    "collapsed": false
   }
  },
  {
   "cell_type": "code",
   "execution_count": 17,
   "outputs": [
    {
     "name": "stdout",
     "output_type": "stream",
     "text": [
      "tensor([1., 1., 1., 1., 1.], requires_grad=True)\n"
     ]
    }
   ],
   "source": [
    "x = torch.ones(5, requires_grad=True)\n",
    "print(x)"
   ],
   "metadata": {
    "collapsed": false
   }
  },
  {
   "cell_type": "code",
   "execution_count": 17,
   "outputs": [],
   "source": [],
   "metadata": {
    "collapsed": false
   }
  }
 ],
 "metadata": {
  "kernelspec": {
   "display_name": "Python 3",
   "language": "python",
   "name": "python3"
  },
  "language_info": {
   "codemirror_mode": {
    "name": "ipython",
    "version": 2
   },
   "file_extension": ".py",
   "mimetype": "text/x-python",
   "name": "python",
   "nbconvert_exporter": "python",
   "pygments_lexer": "ipython2",
   "version": "2.7.6"
  }
 },
 "nbformat": 4,
 "nbformat_minor": 0
}
