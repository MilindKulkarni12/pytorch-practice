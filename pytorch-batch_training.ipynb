{
 "cells": [
  {
   "cell_type": "code",
   "execution_count": 1,
   "metadata": {
    "collapsed": true
   },
   "outputs": [],
   "source": [
    "import torch\n",
    "import torchvision\n",
    "from torch.utils.data import DataLoader, Dataset\n",
    "import numpy as np\n",
    "import math"
   ]
  },
  {
   "cell_type": "code",
   "execution_count": 2,
   "outputs": [],
   "source": [
    "class WineDataset(Dataset):\n",
    "    def __init__(self):\n",
    "        # data loading\n",
    "        xy = np.loadtxt('./data/wine.csv', delimiter=',', dtype=np.float32, skiprows=1)\n",
    "        self.x = torch.from_numpy(xy[:, 1:])\n",
    "        self.y = torch.from_numpy(xy[:, [0]])  # n_samples, 1\n",
    "        self.n_samples = xy.shape[0]\n",
    "\n",
    "    def __getitem__(self, item):\n",
    "        # indexing\n",
    "        return self.x[item], self.y[item]\n",
    "\n",
    "    def __len__(self):\n",
    "        # length\n",
    "        return self.n_samples"
   ],
   "metadata": {
    "collapsed": false
   }
  },
  {
   "cell_type": "code",
   "execution_count": 3,
   "outputs": [],
   "source": [
    "dataset = WineDataset()"
   ],
   "metadata": {
    "collapsed": false
   }
  },
  {
   "cell_type": "code",
   "execution_count": 6,
   "outputs": [
    {
     "name": "stdout",
     "output_type": "stream",
     "text": [
      "tensor([1.4230e+01, 1.7100e+00, 2.4300e+00, 1.5600e+01, 1.2700e+02, 2.8000e+00,\n",
      "        3.0600e+00, 2.8000e-01, 2.2900e+00, 5.6400e+00, 1.0400e+00, 3.9200e+00,\n",
      "        1.0650e+03]) tensor([1.])\n"
     ]
    }
   ],
   "source": [
    "first_data = dataset[0]\n",
    "features, labels = first_data\n",
    "print(features, labels)"
   ],
   "metadata": {
    "collapsed": false
   }
  },
  {
   "cell_type": "code",
   "execution_count": 16,
   "outputs": [],
   "source": [
    "dataloader = DataLoader(dataset=dataset, batch_size=4, shuffle=True, num_workers=0)"
   ],
   "metadata": {
    "collapsed": false
   }
  },
  {
   "cell_type": "code",
   "execution_count": 17,
   "outputs": [
    {
     "name": "stdout",
     "output_type": "stream",
     "text": [
      "<torch.utils.data.dataloader._SingleProcessDataLoaderIter object at 0x0000020F64C1C8E0>\n"
     ]
    }
   ],
   "source": [
    "dataiter = iter(dataloader)\n",
    "print(dataiter)"
   ],
   "metadata": {
    "collapsed": false
   }
  },
  {
   "cell_type": "code",
   "execution_count": 19,
   "outputs": [
    {
     "name": "stdout",
     "output_type": "stream",
     "text": [
      "[tensor([[1.2200e+01, 3.0300e+00, 2.3200e+00, 1.9000e+01, 9.6000e+01, 1.2500e+00,\n",
      "         4.9000e-01, 4.0000e-01, 7.3000e-01, 5.5000e+00, 6.6000e-01, 1.8300e+00,\n",
      "         5.1000e+02],\n",
      "        [1.3580e+01, 2.5800e+00, 2.6900e+00, 2.4500e+01, 1.0500e+02, 1.5500e+00,\n",
      "         8.4000e-01, 3.9000e-01, 1.5400e+00, 8.6600e+00, 7.4000e-01, 1.8000e+00,\n",
      "         7.5000e+02],\n",
      "        [1.2880e+01, 2.9900e+00, 2.4000e+00, 2.0000e+01, 1.0400e+02, 1.3000e+00,\n",
      "         1.2200e+00, 2.4000e-01, 8.3000e-01, 5.4000e+00, 7.4000e-01, 1.4200e+00,\n",
      "         5.3000e+02],\n",
      "        [1.3400e+01, 3.9100e+00, 2.4800e+00, 2.3000e+01, 1.0200e+02, 1.8000e+00,\n",
      "         7.5000e-01, 4.3000e-01, 1.4100e+00, 7.3000e+00, 7.0000e-01, 1.5600e+00,\n",
      "         7.5000e+02]]), tensor([[3.],\n",
      "        [3.],\n",
      "        [3.],\n",
      "        [3.]])]\n"
     ]
    }
   ],
   "source": [
    "data = next(dataiter)\n",
    "print(data)"
   ],
   "metadata": {
    "collapsed": false
   }
  },
  {
   "cell_type": "code",
   "execution_count": 21,
   "outputs": [
    {
     "name": "stdout",
     "output_type": "stream",
     "text": [
      "tensor([[1.2200e+01, 3.0300e+00, 2.3200e+00, 1.9000e+01, 9.6000e+01, 1.2500e+00,\n",
      "         4.9000e-01, 4.0000e-01, 7.3000e-01, 5.5000e+00, 6.6000e-01, 1.8300e+00,\n",
      "         5.1000e+02],\n",
      "        [1.3580e+01, 2.5800e+00, 2.6900e+00, 2.4500e+01, 1.0500e+02, 1.5500e+00,\n",
      "         8.4000e-01, 3.9000e-01, 1.5400e+00, 8.6600e+00, 7.4000e-01, 1.8000e+00,\n",
      "         7.5000e+02],\n",
      "        [1.2880e+01, 2.9900e+00, 2.4000e+00, 2.0000e+01, 1.0400e+02, 1.3000e+00,\n",
      "         1.2200e+00, 2.4000e-01, 8.3000e-01, 5.4000e+00, 7.4000e-01, 1.4200e+00,\n",
      "         5.3000e+02],\n",
      "        [1.3400e+01, 3.9100e+00, 2.4800e+00, 2.3000e+01, 1.0200e+02, 1.8000e+00,\n",
      "         7.5000e-01, 4.3000e-01, 1.4100e+00, 7.3000e+00, 7.0000e-01, 1.5600e+00,\n",
      "         7.5000e+02]]) tensor([[3.],\n",
      "        [3.],\n",
      "        [3.],\n",
      "        [3.]])\n"
     ]
    }
   ],
   "source": [
    "features, labels = data\n",
    "print(features, labels)"
   ],
   "metadata": {
    "collapsed": false
   }
  },
  {
   "cell_type": "code",
   "execution_count": 24,
   "outputs": [
    {
     "name": "stdout",
     "output_type": "stream",
     "text": [
      "2 178 45\n"
     ]
    }
   ],
   "source": [
    "n_epochs = 2\n",
    "total_samples = len(dataset)\n",
    "n_iterations = math.ceil(total_samples/4)\n",
    "print(n_epochs, total_samples, n_iterations)"
   ],
   "metadata": {
    "collapsed": false
   }
  },
  {
   "cell_type": "code",
   "execution_count": 25,
   "outputs": [
    {
     "name": "stdout",
     "output_type": "stream",
     "text": [
      "epoch 1/2, step 1/45, inputs torch.Size([4, 13])\n",
      "epoch 1/2, step 6/45, inputs torch.Size([4, 13])\n",
      "epoch 1/2, step 11/45, inputs torch.Size([4, 13])\n",
      "epoch 1/2, step 16/45, inputs torch.Size([4, 13])\n",
      "epoch 1/2, step 21/45, inputs torch.Size([4, 13])\n",
      "epoch 1/2, step 26/45, inputs torch.Size([4, 13])\n",
      "epoch 1/2, step 31/45, inputs torch.Size([4, 13])\n",
      "epoch 1/2, step 36/45, inputs torch.Size([4, 13])\n",
      "epoch 1/2, step 41/45, inputs torch.Size([4, 13])\n",
      "epoch 2/2, step 1/45, inputs torch.Size([4, 13])\n",
      "epoch 2/2, step 6/45, inputs torch.Size([4, 13])\n",
      "epoch 2/2, step 11/45, inputs torch.Size([4, 13])\n",
      "epoch 2/2, step 16/45, inputs torch.Size([4, 13])\n",
      "epoch 2/2, step 21/45, inputs torch.Size([4, 13])\n",
      "epoch 2/2, step 26/45, inputs torch.Size([4, 13])\n",
      "epoch 2/2, step 31/45, inputs torch.Size([4, 13])\n",
      "epoch 2/2, step 36/45, inputs torch.Size([4, 13])\n",
      "epoch 2/2, step 41/45, inputs torch.Size([4, 13])\n"
     ]
    }
   ],
   "source": [
    "for epoch in range(n_epochs):\n",
    "    for i, (inputs, labels) in enumerate(dataloader):\n",
    "        if i % 5 == 0:\n",
    "            print(f\"epoch {epoch+1}/{n_epochs}, step {i+1}/{n_iterations}, inputs {inputs.shape}\")"
   ],
   "metadata": {
    "collapsed": false
   }
  },
  {
   "cell_type": "code",
   "execution_count": null,
   "outputs": [],
   "source": [],
   "metadata": {
    "collapsed": false
   }
  }
 ],
 "metadata": {
  "kernelspec": {
   "display_name": "Python 3",
   "language": "python",
   "name": "python3"
  },
  "language_info": {
   "codemirror_mode": {
    "name": "ipython",
    "version": 2
   },
   "file_extension": ".py",
   "mimetype": "text/x-python",
   "name": "python",
   "nbconvert_exporter": "python",
   "pygments_lexer": "ipython2",
   "version": "2.7.6"
  }
 },
 "nbformat": 4,
 "nbformat_minor": 0
}
