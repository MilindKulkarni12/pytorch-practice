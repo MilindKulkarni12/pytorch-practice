{
 "cells": [
  {
   "cell_type": "code",
   "execution_count": 8,
   "metadata": {
    "collapsed": true
   },
   "outputs": [],
   "source": [
    "import numpy as np"
   ]
  },
  {
   "cell_type": "code",
   "execution_count": 9,
   "outputs": [
    {
     "name": "stdout",
     "output_type": "stream",
     "text": [
      "[1. 2. 3. 4.]\n",
      "[2. 4. 6. 8.]\n"
     ]
    }
   ],
   "source": [
    "# y = w * x\n",
    "# y = 2 * x\n",
    "X = np.array([1, 2, 3, 4], dtype=np.float32)\n",
    "print(X)\n",
    "y = np.array([2, 4, 6, 8], dtype=np.float32)\n",
    "print(y)"
   ],
   "metadata": {
    "collapsed": false
   }
  },
  {
   "cell_type": "code",
   "execution_count": 10,
   "outputs": [],
   "source": [
    "# model prediction\n",
    "def forward(x):\n",
    "    return w * x"
   ],
   "metadata": {
    "collapsed": false
   }
  },
  {
   "cell_type": "code",
   "execution_count": 11,
   "outputs": [],
   "source": [
    "# loss function\n",
    "def loss(y, y_pred):\n",
    "    return  ((y - y_pred)**2).mean()"
   ],
   "metadata": {
    "collapsed": false
   }
  },
  {
   "cell_type": "code",
   "execution_count": 12,
   "outputs": [],
   "source": [
    "# gradient descent -> update w\n",
    "def gradient(x, y, y_pred):\n",
    "    return np.dot(2*x, y_pred - y).mean()"
   ],
   "metadata": {
    "collapsed": false
   }
  },
  {
   "cell_type": "code",
   "execution_count": 13,
   "outputs": [],
   "source": [
    "w = 0.0\n",
    "alpha = 0.01\n",
    "iterations = 20"
   ],
   "metadata": {
    "collapsed": false
   }
  },
  {
   "cell_type": "code",
   "execution_count": 14,
   "outputs": [
    {
     "name": "stdout",
     "output_type": "stream",
     "text": [
      "0.0\n",
      "epoch 0, w: 1.200, loss: 30.000000\n",
      "epoch 1, w: 1.680, loss: 4.799999\n",
      "epoch 2, w: 1.872, loss: 0.768000\n",
      "epoch 3, w: 1.949, loss: 0.122880\n",
      "epoch 4, w: 1.980, loss: 0.019661\n",
      "epoch 5, w: 1.992, loss: 0.003146\n",
      "epoch 6, w: 1.997, loss: 0.000503\n",
      "epoch 7, w: 1.999, loss: 0.000081\n",
      "epoch 8, w: 1.999, loss: 0.000013\n",
      "epoch 9, w: 2.000, loss: 0.000002\n",
      "epoch 10, w: 2.000, loss: 0.000000\n",
      "epoch 11, w: 2.000, loss: 0.000000\n",
      "epoch 12, w: 2.000, loss: 0.000000\n",
      "epoch 13, w: 2.000, loss: 0.000000\n",
      "epoch 14, w: 2.000, loss: 0.000000\n",
      "epoch 15, w: 2.000, loss: 0.000000\n",
      "epoch 16, w: 2.000, loss: 0.000000\n",
      "epoch 17, w: 2.000, loss: 0.000000\n",
      "epoch 18, w: 2.000, loss: 0.000000\n",
      "epoch 19, w: 2.000, loss: 0.000000\n",
      "9.999999976158142\n"
     ]
    }
   ],
   "source": [
    "print(forward(5))\n",
    "\n",
    "for epoch in range(iterations):\n",
    "    # predict\n",
    "    y_pred = forward(X)\n",
    "\n",
    "    # calculate loss\n",
    "    l = loss(y, y_pred)\n",
    "\n",
    "    # gradient descent\n",
    "    dw = gradient(X, y, y_pred)\n",
    "\n",
    "    # update weights\n",
    "    w -= alpha * dw\n",
    "    print(f\"epoch {epoch}, w: {w:.3f}, loss: {l:5f}\")\n",
    "\n",
    "print(forward(5))"
   ],
   "metadata": {
    "collapsed": false
   }
  },
  {
   "cell_type": "code",
   "execution_count": 14,
   "outputs": [],
   "source": [],
   "metadata": {
    "collapsed": false
   }
  },
  {
   "cell_type": "code",
   "execution_count": 14,
   "outputs": [],
   "source": [],
   "metadata": {
    "collapsed": false
   }
  }
 ],
 "metadata": {
  "kernelspec": {
   "display_name": "Python 3",
   "language": "python",
   "name": "python3"
  },
  "language_info": {
   "codemirror_mode": {
    "name": "ipython",
    "version": 2
   },
   "file_extension": ".py",
   "mimetype": "text/x-python",
   "name": "python",
   "nbconvert_exporter": "python",
   "pygments_lexer": "ipython2",
   "version": "2.7.6"
  }
 },
 "nbformat": 4,
 "nbformat_minor": 0
}
